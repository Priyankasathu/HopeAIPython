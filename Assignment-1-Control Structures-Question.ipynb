{
 "cells": [
  {
   "cell_type": "code",
   "execution_count": 3,
   "id": "58560efe-9925-4ecc-b498-cd2132b0080f",
   "metadata": {},
   "outputs": [
    {
     "name": "stdout",
     "output_type": "stream",
     "text": [
      "Welcome to assignment-1\n"
     ]
    },
    {
     "name": "stdin",
     "output_type": "stream",
     "text": [
      "num1 = 10\n",
      "num2 = 30\n"
     ]
    },
    {
     "name": "stdout",
     "output_type": "stream",
     "text": [
      "Add = 40\n"
     ]
    }
   ],
   "source": [
    "print(\"Welcome to assignment-1\")\n",
    "num1=int(input(\"num1 =\"))\n",
    "num2=int(input(\"num2 =\"))\n",
    "print(\"Add =\",num1+num2)"
   ]
  },
  {
   "cell_type": "markdown",
   "id": "deb15e9a-47bb-4985-91da-076a65072867",
   "metadata": {},
   "source": []
  },
  {
   "cell_type": "code",
   "execution_count": 19,
   "id": "5295407c-6837-4132-a7cd-34f6f6cbab38",
   "metadata": {},
   "outputs": [
    {
     "name": "stdin",
     "output_type": "stream",
     "text": [
      "Enter your BMI Index:  67\n"
     ]
    },
    {
     "name": "stdout",
     "output_type": "stream",
     "text": [
      "Obesity Class III (Very severe)\n"
     ]
    }
   ],
   "source": [
    "##Body Mass Index\n",
    "bmi=float(input(\"Enter your BMI Index: \"))\n",
    "if(bmi < 18.5):\n",
    "    print(\"Underweight\")\n",
    "elif(bmi < 25):\n",
    "    print(\"Normal weight\")\n",
    "elif(bmi < 30):\n",
    "    print(\"Overweight\")\n",
    "elif(bmi < 35):\n",
    "    print(\"Obesity Class I (Mild)\")\n",
    "elif(bmi < 40):\n",
    "    print(\"Obesity Class II (Severe)\")\n",
    "else:\n",
    "    print(\"Obesity Class III (Very severe)\")"
   ]
  },
  {
   "cell_type": "code",
   "execution_count": null,
   "id": "24c92fca-c374-491a-b2c8-0a5d4d8f74cd",
   "metadata": {},
   "outputs": [],
   "source": []
  }
 ],
 "metadata": {
  "kernelspec": {
   "display_name": "Python [conda env:base] *",
   "language": "python",
   "name": "conda-base-py"
  },
  "language_info": {
   "codemirror_mode": {
    "name": "ipython",
    "version": 3
   },
   "file_extension": ".py",
   "mimetype": "text/x-python",
   "name": "python",
   "nbconvert_exporter": "python",
   "pygments_lexer": "ipython3",
   "version": "3.12.7"
  }
 },
 "nbformat": 4,
 "nbformat_minor": 5
}
