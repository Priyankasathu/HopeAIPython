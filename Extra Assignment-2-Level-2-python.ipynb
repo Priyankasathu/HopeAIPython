{
 "cells": [
  {
   "cell_type": "code",
   "execution_count": 3,
   "id": "5273cc04-1666-4bd1-9776-9e34d18e8d4c",
   "metadata": {},
   "outputs": [
    {
     "name": "stdout",
     "output_type": "stream",
     "text": [
      "0\n",
      "1\n",
      "2\n",
      "3\n",
      "4\n",
      "5\n",
      "6\n",
      "7\n",
      "8\n",
      "9\n",
      "10\n",
      "11\n",
      "12\n",
      "13\n",
      "14\n",
      "15\n",
      "16\n",
      "17\n",
      "18\n",
      "19\n"
     ]
    }
   ],
   "source": [
    "for displayRange in range(0,20):\n",
    "    print(displayRange)"
   ]
  },
  {
   "cell_type": "code",
   "execution_count": 5,
   "id": "1736cc2c-88cd-4a60-800d-baa267433264",
   "metadata": {},
   "outputs": [
    {
     "name": "stdout",
     "output_type": "stream",
     "text": [
      "10\n",
      "11\n",
      "12\n",
      "13\n",
      "14\n",
      "15\n",
      "16\n",
      "17\n",
      "18\n",
      "19\n"
     ]
    }
   ],
   "source": [
    "for displayRange in range(10,20):\n",
    "    print(displayRange)"
   ]
  },
  {
   "cell_type": "code",
   "execution_count": 9,
   "id": "93fc0ca6-c24a-467c-be7e-3f13c969089c",
   "metadata": {},
   "outputs": [
    {
     "name": "stdout",
     "output_type": "stream",
     "text": [
      "Number of item in the list1: 7\n"
     ]
    }
   ],
   "source": [
    "list1=[10, 20, 14, 55, 43, 87, 76]\n",
    "print(\"Number of item in the list1:\",len(list1))"
   ]
  },
  {
   "cell_type": "code",
   "execution_count": null,
   "id": "3bef59ab-7649-40a5-ab11-4387bf4886b8",
   "metadata": {},
   "outputs": [],
   "source": []
  }
 ],
 "metadata": {
  "kernelspec": {
   "display_name": "Python [conda env:base] *",
   "language": "python",
   "name": "conda-base-py"
  },
  "language_info": {
   "codemirror_mode": {
    "name": "ipython",
    "version": 3
   },
   "file_extension": ".py",
   "mimetype": "text/x-python",
   "name": "python",
   "nbconvert_exporter": "python",
   "pygments_lexer": "ipython3",
   "version": "3.12.7"
  }
 },
 "nbformat": 4,
 "nbformat_minor": 5
}
