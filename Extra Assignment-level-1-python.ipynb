{
 "cells": [
  {
   "cell_type": "code",
   "execution_count": 9,
   "id": "6ff91640-564c-4a6b-8248-4b4100fc9be6",
   "metadata": {
    "scrolled": true
   },
   "outputs": [
    {
     "name": "stdout",
     "output_type": "stream",
     "text": [
      "HOPE AI\n"
     ]
    },
    {
     "name": "stdin",
     "output_type": "stream",
     "text": [
      "Enter your institute name? : Hope Ai\n",
      "Enter your name: priyanka\n",
      "Enter your age: 30\n",
      "Enter your school name Adhyaaman\n",
      "Enter your degree: BE CSE\n"
     ]
    },
    {
     "data": {
      "text/plain": [
       "'BE CSE'"
      ]
     },
     "execution_count": 9,
     "metadata": {},
     "output_type": "execute_result"
    }
   ],
   "source": [
    "#print statment\n",
    "print(\"HOPE AI\")\n",
    "#Buy input\n",
    "input(\"Enter your institute name? :\")\n",
    "input(\"Enter your name:\")\n",
    "input(\"Enter your age:\")\n",
    "input(\"Enter your school name\")\n",
    "input(\"Enter your degree:\")"
   ]
  },
  {
   "cell_type": "code",
   "execution_count": 11,
   "id": "f60bd6a5-f11e-4433-971c-d94a6569acc8",
   "metadata": {},
   "outputs": [
    {
     "name": "stdin",
     "output_type": "stream",
     "text": [
      "num1 = 43\n",
      "num2 = 34\n"
     ]
    },
    {
     "name": "stdout",
     "output_type": "stream",
     "text": [
      "Add = 77\n"
     ]
    }
   ],
   "source": [
    "#Addition\n",
    "num1=int(input(\"num1 =\"))\n",
    "num2=int(input(\"num2 =\"))\n",
    "print(\"Add =\",num1+num2)"
   ]
  },
  {
   "cell_type": "code",
   "execution_count": 27,
   "id": "170733ed-a416-4ada-a122-8b8f994d35ce",
   "metadata": {},
   "outputs": [
    {
     "name": "stdin",
     "output_type": "stream",
     "text": [
      "num1 = 43\n",
      "num2 = 34\n"
     ]
    },
    {
     "name": "stdout",
     "output_type": "stream",
     "text": [
      "Subtraction = 9\n"
     ]
    }
   ],
   "source": [
    "#Subtraction\n",
    "num1=int(input(\"num1 =\"))\n",
    "num2=int(input(\"num2 =\"))\n",
    "print(\"Subtraction =\",num1-num2)"
   ]
  },
  {
   "cell_type": "code",
   "execution_count": 29,
   "id": "7784eaeb-ec92-41b7-879b-36807aef9b47",
   "metadata": {},
   "outputs": [
    {
     "name": "stdin",
     "output_type": "stream",
     "text": [
      "num1 = 63\n",
      "num2 = 97\n"
     ]
    },
    {
     "name": "stdout",
     "output_type": "stream",
     "text": [
      "Multiplication = 6111\n"
     ]
    }
   ],
   "source": [
    "#Multiplication\n",
    "num1=int(input(\"num1 =\"))\n",
    "num2=int(input(\"num2 =\"))\n",
    "print(\"Multiplication =\",num1*num2)"
   ]
  },
  {
   "cell_type": "code",
   "execution_count": 31,
   "id": "a723bed3-8675-4cf3-ae62-469895d171e2",
   "metadata": {},
   "outputs": [
    {
     "name": "stdin",
     "output_type": "stream",
     "text": [
      "num1 = 76\n",
      "num2 = 31\n"
     ]
    },
    {
     "name": "stdout",
     "output_type": "stream",
     "text": [
      "Division = 2.4516129032258065\n"
     ]
    }
   ],
   "source": [
    "#Division\n",
    "num1=int(input(\"num1 =\"))\n",
    "num2=int(input(\"num2 =\"))\n",
    "print(\"Division =\",num1/num2)"
   ]
  },
  {
   "cell_type": "code",
   "execution_count": 19,
   "id": "be173bc2-e11a-4514-86ac-6b4c1c04234f",
   "metadata": {},
   "outputs": [
    {
     "name": "stdin",
     "output_type": "stream",
     "text": [
      "num1 = 76\n",
      "num2 = 31\n"
     ]
    },
    {
     "name": "stdout",
     "output_type": "stream",
     "text": [
      "Add = 2\n"
     ]
    }
   ],
   "source": [
    "#floor division\n",
    "num1=int(input(\"num1 =\"))\n",
    "num2=int(input(\"num2 =\"))\n",
    "print(\"floor division =\",num1//num2)"
   ]
  },
  {
   "cell_type": "code",
   "execution_count": 33,
   "id": "1a29150d-bd95-4546-b18b-d2892293ffbf",
   "metadata": {},
   "outputs": [
    {
     "name": "stdin",
     "output_type": "stream",
     "text": [
      "num1 = 76\n",
      "num2 = 31\n"
     ]
    },
    {
     "name": "stdout",
     "output_type": "stream",
     "text": [
      "Modulo = 14\n"
     ]
    }
   ],
   "source": [
    "#Modulo\n",
    "num1=int(input(\"num1 =\"))\n",
    "num2=int(input(\"num2 =\"))\n",
    "print(\"Modulo =\",num1%num2)"
   ]
  },
  {
   "cell_type": "code",
   "execution_count": 25,
   "id": "74158982-d6e2-4341-b7ce-96f32813c14b",
   "metadata": {},
   "outputs": [
    {
     "name": "stdin",
     "output_type": "stream",
     "text": [
      "num1 = 4\n",
      "num2 = 4\n"
     ]
    },
    {
     "name": "stdout",
     "output_type": "stream",
     "text": [
      "power = 256\n"
     ]
    }
   ],
   "source": [
    "#power\n",
    "num1=int(input(\"num1 =\"))\n",
    "num2=int(input(\"num2 =\"))\n",
    "print(\"power =\",num1**num2)"
   ]
  },
  {
   "cell_type": "code",
   "execution_count": null,
   "id": "936e55dc-213a-4275-bf7c-248157bdc6d2",
   "metadata": {},
   "outputs": [],
   "source": []
  }
 ],
 "metadata": {
  "kernelspec": {
   "display_name": "Python [conda env:base] *",
   "language": "python",
   "name": "conda-base-py"
  },
  "language_info": {
   "codemirror_mode": {
    "name": "ipython",
    "version": 3
   },
   "file_extension": ".py",
   "mimetype": "text/x-python",
   "name": "python",
   "nbconvert_exporter": "python",
   "pygments_lexer": "ipython3",
   "version": "3.12.7"
  }
 },
 "nbformat": 4,
 "nbformat_minor": 5
}
