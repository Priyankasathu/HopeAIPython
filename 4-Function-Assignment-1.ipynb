{
 "cells": [
  {
   "cell_type": "code",
   "execution_count": 70,
   "id": "c6a87f8e-5f69-4b3d-955a-9566f5e0dac0",
   "metadata": {},
   "outputs": [
    {
     "name": "stdout",
     "output_type": "stream",
     "text": [
      "Sub-fields in AI are:\n",
      "Machine Learning\n",
      "Neural Networks\n",
      "Vision\n",
      "Robotics\n",
      "Speech Processing\n",
      "Natural Language Processing\n"
     ]
    }
   ],
   "source": [
    "def Subfields():\n",
    "    print(\"Sub-fields in AI are:\")\n",
    "    domainList = ['Machine Learning', 'Neural Networks', 'Vision', 'Robotics', 'Speech Processing', 'Natural Language Processing']\n",
    "    for subfield in domainList:\n",
    "        print(subfield)\n",
    "        \n",
    "Subfields()"
   ]
  },
  {
   "cell_type": "code",
   "execution_count": 92,
   "id": "d9ee0d4f-86cd-4055-b6fe-bd7c98285558",
   "metadata": {},
   "outputs": [
    {
     "name": "stdin",
     "output_type": "stream",
     "text": [
      "Enter a number: 9999\n"
     ]
    },
    {
     "name": "stdout",
     "output_type": "stream",
     "text": [
      "9999 is odd number\n"
     ]
    }
   ],
   "source": [
    "def OddEven():\n",
    "    getValue=int(input(\"Enter a number:\"))\n",
    "    if(getValue%2==0):\n",
    "        checkResult=str(getValue) +\" is Even number\"\n",
    "    else:\n",
    "        checkResult=str(getValue) +\" is odd number\"\n",
    "    return checkResult \n",
    "\n",
    "result=OddEven()\n",
    "print(result)\n",
    "                 \n"
   ]
  },
  {
   "cell_type": "code",
   "execution_count": 104,
   "id": "1e40bded-8f37-4f2d-9af8-1f3a03d759ad",
   "metadata": {},
   "outputs": [
    {
     "name": "stdin",
     "output_type": "stream",
     "text": [
      "Enter your gender (Male/Female):  Male\n",
      "Enter your age:  33\n"
     ]
    },
    {
     "name": "stdout",
     "output_type": "stream",
     "text": [
      "Elegible\n"
     ]
    }
   ],
   "source": [
    "def Elegible():\n",
    "    gender=input(\"Enter your gender (Male/Female): \")\n",
    "    age=int(input(\"Enter your age: \"))\n",
    "    if(age>=18 and gender=='Female'):\n",
    "        checkElegiblity=\"Elegible\"\n",
    "    elif(age>=21 and gender=='Male'):\n",
    "        checkElegiblity=\"Elegible\"\n",
    "    else:\n",
    "        checkElegiblity=\"Not Elegible\"\n",
    "    return checkElegiblity\n",
    "\n",
    "result=Elegible()\n",
    "print(result)    \n",
    "\n",
    "        "
   ]
  },
  {
   "cell_type": "code",
   "execution_count": 122,
   "id": "e0fa122b-c544-42be-b3d4-1a97d99f316e",
   "metadata": {},
   "outputs": [
    {
     "name": "stdin",
     "output_type": "stream",
     "text": [
      "Enter Subject1 Marks:  98\n",
      "Enter Subject2 Marks:  95\n",
      "Enter Subject3 Marks:  87\n",
      "Enter Subject4 Marks:  92\n",
      "Enter Subject5 Marks:  77\n"
     ]
    },
    {
     "name": "stdout",
     "output_type": "stream",
     "text": [
      "Total Marks: 449\n",
      "Percentage: 89.8\n"
     ]
    }
   ],
   "source": [
    "def percentage():\n",
    "    Sub1=int(input(\"Enter Subject1 Marks: \"))\n",
    "    Sub2=int(input(\"Enter Subject2 Marks: \"))\n",
    "    Sub3=int(input(\"Enter Subject3 Marks: \"))\n",
    "    Sub4=int(input(\"Enter Subject4 Marks: \"))\n",
    "    Sub5=int(input(\"Enter Subject5 Marks: \"))\n",
    "    Total=Sub1+Sub2+Sub3+Sub4+Sub5\n",
    "    Percentage=Total/5\n",
    "    print(\"Total Marks:\", Total)\n",
    "    print(\"Percentage:\", Percentage)\n",
    "    \n",
    "percentage()\n",
    "\n"
   ]
  },
  {
   "cell_type": "code",
   "execution_count": 132,
   "id": "78d08c11-46d6-4c33-bf28-6d369ec50f24",
   "metadata": {},
   "outputs": [
    {
     "name": "stdout",
     "output_type": "stream",
     "text": [
      "Area of tringle:  544.0\n",
      "Perimeter of tringle:  10\n"
     ]
    }
   ],
   "source": [
    "class Triangle:\n",
    "    def Area(Height,Breadth):\n",
    "        totalArea=(Height*Breadth)/2\n",
    "        return totalArea\n",
    "     \n",
    "    def Perimeter(Height1,Height2,Height3):\n",
    "        totalPerimeter=Height1+Height2+Height3\n",
    "        return totalPerimeter\n",
    "\n",
    "\n",
    "area=Triangle.Area(32,34)\n",
    "print(\"Area of tringle: \",area)\n",
    "\n",
    "perimeter=Triangle.Perimeter(2,4,4)\n",
    "print(\"Perimeter of tringle: \",perimeter)"
   ]
  },
  {
   "cell_type": "code",
   "execution_count": null,
   "id": "baa7afab-15f7-4a3c-adbc-99e50ea6bcfa",
   "metadata": {},
   "outputs": [],
   "source": []
  }
 ],
 "metadata": {
  "kernelspec": {
   "display_name": "Python [conda env:base] *",
   "language": "python",
   "name": "conda-base-py"
  },
  "language_info": {
   "codemirror_mode": {
    "name": "ipython",
    "version": 3
   },
   "file_extension": ".py",
   "mimetype": "text/x-python",
   "name": "python",
   "nbconvert_exporter": "python",
   "pygments_lexer": "ipython3",
   "version": "3.12.7"
  }
 },
 "nbformat": 4,
 "nbformat_minor": 5
}
