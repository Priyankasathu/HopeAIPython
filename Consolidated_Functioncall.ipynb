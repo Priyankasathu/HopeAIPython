{
 "cells": [
  {
   "cell_type": "code",
   "execution_count": 5,
   "id": "8d106d9d-59e7-495c-9e01-a5b73dc0f082",
   "metadata": {},
   "outputs": [
    {
     "name": "stdout",
     "output_type": "stream",
     "text": [
      "Sub-fields in AI are:\n",
      "Machine Learning\n",
      "Neural Networks\n",
      "Vision\n",
      "Robotics\n",
      "Speech Processing\n",
      "Natural Language Processing\n"
     ]
    }
   ],
   "source": [
    "from ConsolidatedFunction import Consolidated\n",
    "Consolidated.Subfields()\n"
   ]
  },
  {
   "cell_type": "code",
   "execution_count": 9,
   "id": "5b5c8bde-f870-471f-be9c-87cdad9e625c",
   "metadata": {},
   "outputs": [
    {
     "name": "stdin",
     "output_type": "stream",
     "text": [
      "Enter a number: 98764\n"
     ]
    },
    {
     "name": "stdout",
     "output_type": "stream",
     "text": [
      "98764 is Even number\n"
     ]
    }
   ],
   "source": [
    "result=Consolidated.OddEven()\n",
    "print(result)"
   ]
  },
  {
   "cell_type": "code",
   "execution_count": 13,
   "id": "b1b5cc87-abc2-4c86-9d45-d37d26cfd326",
   "metadata": {},
   "outputs": [
    {
     "name": "stdin",
     "output_type": "stream",
     "text": [
      "Enter your gender (Male/Female):  Male\n",
      "Enter your age:  15\n"
     ]
    },
    {
     "name": "stdout",
     "output_type": "stream",
     "text": [
      "Not Elegible\n"
     ]
    }
   ],
   "source": [
    "result=Consolidated.Elegible()\n",
    "print(result) "
   ]
  },
  {
   "cell_type": "code",
   "execution_count": null,
   "id": "596965ce-7caa-4e7b-aa01-fb6c93fa6c51",
   "metadata": {},
   "outputs": [],
   "source": [
    "Consolidatedpercentage()"
   ]
  }
 ],
 "metadata": {
  "kernelspec": {
   "display_name": "Python [conda env:base] *",
   "language": "python",
   "name": "conda-base-py"
  },
  "language_info": {
   "codemirror_mode": {
    "name": "ipython",
    "version": 3
   },
   "file_extension": ".py",
   "mimetype": "text/x-python",
   "name": "python",
   "nbconvert_exporter": "python",
   "pygments_lexer": "ipython3",
   "version": "3.12.7"
  }
 },
 "nbformat": 4,
 "nbformat_minor": 5
}
