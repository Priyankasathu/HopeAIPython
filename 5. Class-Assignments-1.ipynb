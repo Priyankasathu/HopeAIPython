{
 "cells": [
  {
   "cell_type": "code",
   "execution_count": 7,
   "id": "1fe3d06e-1303-4509-bae5-89cd146a2176",
   "metadata": {},
   "outputs": [
    {
     "name": "stdout",
     "output_type": "stream",
     "text": [
      "Sub-fields in AI are:\n",
      "Machine Learning\n",
      "Neural Networks\n",
      "Vision\n",
      "Robotics\n",
      "Speech Processing\n",
      "Natural Language Processing\n"
     ]
    }
   ],
   "source": [
    "class SubfieldsInAI:\n",
    "    def Subfields():\n",
    "        print(\"Sub-fields in AI are:\")\n",
    "        domainList = ['Machine Learning', 'Neural Networks', 'Vision', 'Robotics', 'Speech Processing', 'Natural Language Processing']\n",
    "        for subfield in domainList:\n",
    "            print(subfield)\n",
    "        \n",
    "SubfieldsInAI.Subfields()"
   ]
  },
  {
   "cell_type": "code",
   "execution_count": 11,
   "id": "6dd19b36-bcbf-45a1-a784-a5d256a2f1cc",
   "metadata": {},
   "outputs": [
    {
     "name": "stdin",
     "output_type": "stream",
     "text": [
      "Enter a number: 8976\n"
     ]
    },
    {
     "name": "stdout",
     "output_type": "stream",
     "text": [
      "8976 is Even number\n"
     ]
    }
   ],
   "source": [
    "class OddEven:\n",
    "    def OddEven():\n",
    "        getValue=int(input(\"Enter a number:\"))\n",
    "        if(getValue%2==0):\n",
    "            checkResult=str(getValue) +\" is Even number\"\n",
    "        else:\n",
    "            checkResult=str(getValue) +\" is odd number\"\n",
    "        return checkResult \n",
    "\n",
    "result=OddEven.OddEven()\n",
    "print(result)"
   ]
  },
  {
   "cell_type": "code",
   "execution_count": 15,
   "id": "77ffd3d2-2c3d-4011-bd43-9b90fded58b9",
   "metadata": {},
   "outputs": [
    {
     "name": "stdin",
     "output_type": "stream",
     "text": [
      "Enter your gender (Male/Female):  Female\n",
      "Enter your age:  22\n"
     ]
    },
    {
     "name": "stdout",
     "output_type": "stream",
     "text": [
      "Eligible\n"
     ]
    }
   ],
   "source": [
    "class EligiblityForMarriage:\n",
    "    def Eligible():\n",
    "        gender=input(\"Enter your gender (Male/Female): \")\n",
    "        age=int(input(\"Enter your age: \"))\n",
    "        if(age>=18 and gender=='Female'):\n",
    "            checkElegiblity=\"Eligible\"\n",
    "        elif(age>=21 and gender=='Male'):\n",
    "            checkElegiblity=\"Eligible\"\n",
    "        else:\n",
    "            checkElegiblity=\"Not Eligible\"\n",
    "        return checkElegiblity\n",
    "\n",
    "result=EligiblityForMarriage.Eligible()\n",
    "print(result) "
   ]
  },
  {
   "cell_type": "code",
   "execution_count": 17,
   "id": "28aa02a3-a0c2-44e1-8dc9-b9a7cdfe0f5e",
   "metadata": {},
   "outputs": [
    {
     "name": "stdin",
     "output_type": "stream",
     "text": [
      "Enter Subject1 Marks:  98\n",
      "Enter Subject2 Marks:  87\n",
      "Enter Subject3 Marks:  94\n",
      "Enter Subject4 Marks:  97\n",
      "Enter Subject5 Marks:  99\n"
     ]
    },
    {
     "name": "stdout",
     "output_type": "stream",
     "text": [
      "Total Marks: 475\n",
      "Percentage: 95.0\n"
     ]
    }
   ],
   "source": [
    "class FindPercent:\n",
    "    def percentage():\n",
    "        Sub1=int(input(\"Enter Subject1 Marks: \"))\n",
    "        Sub2=int(input(\"Enter Subject2 Marks: \"))\n",
    "        Sub3=int(input(\"Enter Subject3 Marks: \"))\n",
    "        Sub4=int(input(\"Enter Subject4 Marks: \"))\n",
    "        Sub5=int(input(\"Enter Subject5 Marks: \"))\n",
    "        Total=Sub1+Sub2+Sub3+Sub4+Sub5\n",
    "        Percentage=Total/5\n",
    "        print(\"Total Marks:\", Total)\n",
    "        print(\"Percentage:\", Percentage)\n",
    "    \n",
    "FindPercent.percentage()"
   ]
  },
  {
   "cell_type": "code",
   "execution_count": 19,
   "id": "e2742ded-548d-47ca-b029-4c6bdd657a99",
   "metadata": {},
   "outputs": [
    {
     "name": "stdout",
     "output_type": "stream",
     "text": [
      "Area of tringle:  544.0\n",
      "Perimeter of tringle:  10\n"
     ]
    }
   ],
   "source": [
    "class Triangle:\n",
    "    def Area(Height,Breadth):\n",
    "        totalArea=(Height*Breadth)/2\n",
    "        return totalArea\n",
    "     \n",
    "    def Perimeter(Height1,Height2,Height3):\n",
    "        totalPerimeter=Height1+Height2+Height3\n",
    "        return totalPerimeter\n",
    "\n",
    "\n",
    "area=Triangle.Area(32,34)\n",
    "print(\"Area of tringle: \",area)\n",
    "\n",
    "perimeter=Triangle.Perimeter(2,4,4)\n",
    "print(\"Perimeter of tringle: \",perimeter)"
   ]
  }
 ],
 "metadata": {
  "kernelspec": {
   "display_name": "Python [conda env:base] *",
   "language": "python",
   "name": "conda-base-py"
  },
  "language_info": {
   "codemirror_mode": {
    "name": "ipython",
    "version": 3
   },
   "file_extension": ".py",
   "mimetype": "text/x-python",
   "name": "python",
   "nbconvert_exporter": "python",
   "pygments_lexer": "ipython3",
   "version": "3.12.7"
  }
 },
 "nbformat": 4,
 "nbformat_minor": 5
}
